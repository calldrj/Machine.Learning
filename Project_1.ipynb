{
  "nbformat": 4,
  "nbformat_minor": 0,
  "metadata": {
    "colab": {
      "name": "Project_1.ipynb",
      "provenance": [],
      "collapsed_sections": [],
      "authorship_tag": "ABX9TyNfn0jp6eWqdZbhEt3suuon",
      "include_colab_link": true
    },
    "kernelspec": {
      "name": "python3",
      "display_name": "Python 3"
    }
  },
  "cells": [
    {
      "cell_type": "markdown",
      "metadata": {
        "id": "view-in-github",
        "colab_type": "text"
      },
      "source": [
        "<a href=\"https://colab.research.google.com/github/calldrj/Machine_Learning/blob/master/Project_1.ipynb\" target=\"_parent\"><img src=\"https://colab.research.google.com/assets/colab-badge.svg\" alt=\"Open In Colab\"/></a>"
      ]
    },
    {
      "cell_type": "code",
      "metadata": {
        "id": "Gy2iYDNUfY8y",
        "colab_type": "code",
        "colab": {
          "base_uri": "https://localhost:8080/",
          "height": 404
        },
        "outputId": "8ae2d6a8-7bb4-4549-c4ff-daa6bda1ff79"
      },
      "source": [
        "# Python code implementation for calculation the certainty there is in W^ estimation\n",
        "# This can be done by determination of the covariance matrix of W^ \n",
        "# as discussed in Chapter 2 section 2.9.1 of A First Course of Machine Learning.\n",
        "# Two synthetic dataset are generated using low and high levels of noise \n",
        "# formed around a true function.\n",
        "# Each sampling point of two datasets is plotted using matplotlib for demonstration.\n",
        "# The covariance matrix of W^ is calculated for each dataset using numpy\n",
        "# The results show that the dataset with high noise level has significant high \n",
        "# values on the diagonal of the covariance matrix of W^ that those of low noise level\n",
        "\n",
        "import matplotlib.pyplot as plt\n",
        "import numpy as np\n",
        "\n",
        "# Calculate then return the covariance matrix of W^\n",
        "def cov_matrix(sample_size, x, y):\n",
        "    XT = np.vstack([np.ones((1, n_samples)), x]) # Transpose matrix of X, XT\n",
        "    XO = XT.transpose()                          # Original matrix of X, XO\n",
        "    XD = np.dot(XT, XO)                          # Dot product of (XT, XO), XD\n",
        "    XI = np.linalg.inv(XD)                       # Inverse matrix of XD, XI\n",
        "    XP = np.dot(XI, XT)                          # Dot product of (XI, XT), XP\n",
        "    TO = y.transpose()                           # Orignal matrix t, TO\n",
        "    TT = TO.transpose()                          # Transpose matrix of t, TT\n",
        "    TD = np.dot(TT, TO)                          # Dot product of (TT, TO), TD                          \n",
        "    TX = np.dot(TT, XO)                          # Dot product of (TT, XO), TX \n",
        "    WH = np.dot(XP, TO)                          # Dot product of (XP, TO), WH\n",
        "    TW = np.dot(TX, WH)                          # Dot product of (TX, WH), TX\n",
        "    SI = (TD - TW)/n_samples                     # Squared standard deviation\n",
        "    CW = SI * XI                                 # Covariance of W^\n",
        "    return CW\n",
        "\n",
        "n_samples = 50    # Sample size\n",
        "w0 = -2.0         \n",
        "w1 = 3.0\n",
        "mu = 0            # Center of Gaussian distribution\n",
        "start = 0         # Starting point of sample, x\n",
        "stop  = 1         # Ending point of sample, x\n",
        "\n",
        "# Legend for the plot\n",
        "if w0 >= 0:\n",
        "    l = 'y = ' + str(w1) + 'x + ' + str(w0)\n",
        "else:\n",
        "    l = 'y = ' + str(w1) + 'x - '   + str(-w0)\n",
        "\n",
        "# Draw scatter plot of sampled dataset and plot of its true function \n",
        "plt.figure()\n",
        "for i in (1,2):\n",
        "    sp = 210 + i\n",
        "    plt.subplot(sp)\n",
        "    if i == 1:\n",
        "        mu, sigma = 0, 0.5\n",
        "        legend = '[Low Noise -> High Likelihood Curvature]'\n",
        "    else:\n",
        "        mu, sigma = 0, 1\n",
        "        legend = '[High Noise -> Low Likelihood Curvature]'\n",
        "\n",
        "    x = np.linspace(start, stop, n_samples)\n",
        "    y = w0 + w1 * x\n",
        "    noise = np.random.normal(mu, sigma * sigma, n_samples)\n",
        "    # Print out the covariance matrix of W^\n",
        "    print('Cov(W^) ' + legend + f':\\n{cov_matrix(n_samples, x, y + noise)}\\n')\n",
        "    plt.plot(x, y, 'r--', label = l)\n",
        "    plt.plot( x, y + noise, 'bo')\n",
        "\n",
        "plt.title('Likelyhood w/ Small and Large Noise\\n')\n",
        "plt.legend()\n",
        "plt.show()"
      ],
      "execution_count": 1,
      "outputs": [
        {
          "output_type": "stream",
          "text": [
            "Cov(W^) [Small Noise -> High Likelihood Curvature]:\n",
            "[[ 0.00422354 -0.00627131]\n",
            " [-0.00627131  0.01254263]]\n",
            "\n",
            "Cov(W^) [Large Noise -> Low Likelihood Curvature]:\n",
            "[[ 0.11365888 -0.16876621]\n",
            " [-0.16876621  0.33753243]]\n",
            "\n"
          ],
          "name": "stdout"
        },
        {
          "output_type": "display_data",
          "data": {
            "image/png": "[encoded data removed]",
            "text/plain": [
              "<Figure size 432x288 with 2 Axes>"
            ]
          },
          "metadata": {
            "tags": []
          }
        }
      ]
    }
  ]
}